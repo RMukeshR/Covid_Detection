{
 "cells": [
  {
   "cell_type": "code",
   "execution_count": 1,
   "metadata": {},
   "outputs": [],
   "source": [
    "import os\n",
    "import cv2\n",
    "import numpy as np\n",
    "from sklearn.model_selection import train_test_split\n",
    "\n",
    "folder1_path = \"covid\"\n",
    "folder2_path = \"normal\"\n",
    "\n",
    "\n",
    "image_size = (224, 224)\n",
    "\n",
    "data = []\n",
    "labels = []\n",
    "\n",
    "\n",
    "def one_hot(data):\n",
    "    a= list(set(data))\n",
    "    ohe = np.zeros((len(data),len(set(data))))\n",
    "    for i in range(len(data)):\n",
    "        ind = a.index(data[i])\n",
    "        ohe[i][ind] = 1\n",
    "    \n",
    "    return ohe\n",
    "\n",
    "\n",
    "\n",
    "for filename in os.listdir(folder1_path):\n",
    "    img = cv2.imread(os.path.join(folder1_path, filename))\n",
    "    if img is not None:\n",
    "        img = cv2.resize(img, image_size) if image_size else img\n",
    "        data.append(img)\n",
    "        labels.append(0)  \n",
    "\n",
    "for filename in os.listdir(folder2_path):\n",
    "    img = cv2.imread(os.path.join(folder2_path, filename))\n",
    "    if img is not None:\n",
    "        img = cv2.resize(img, image_size) if image_size else img\n",
    "        data.append(img)\n",
    "        labels.append(1)  \n",
    "\n",
    "data = np.array(data)\n",
    "# labels = one_hot(labels)\n",
    "labels = np.array(labels)\n",
    "data = data/255.0\n"
   ]
  },
  {
   "cell_type": "code",
   "execution_count": 2,
   "metadata": {},
   "outputs": [
    {
     "data": {
      "text/plain": [
       "(1204, 150528)"
      ]
     },
     "execution_count": 2,
     "metadata": {},
     "output_type": "execute_result"
    }
   ],
   "source": [
    "data.shape[0]\n",
    "data1 = data.reshape(data.shape[0],-1)\n",
    "data1.shape"
   ]
  },
  {
   "cell_type": "code",
   "execution_count": 3,
   "metadata": {},
   "outputs": [
    {
     "data": {
      "text/plain": [
       "array([0, 0, 0, ..., 1, 1, 1])"
      ]
     },
     "execution_count": 3,
     "metadata": {},
     "output_type": "execute_result"
    }
   ],
   "source": [
    "labels\n"
   ]
  },
  {
   "cell_type": "code",
   "execution_count": 4,
   "metadata": {},
   "outputs": [
    {
     "name": "stdout",
     "output_type": "stream",
     "text": [
      "Accuracy with linear kernel: 0.979253112033195\n",
      "Accuracy with poly kernel: 0.979253112033195\n",
      "Accuracy with rbf kernel: 0.979253112033195\n",
      "Accuracy with sigmoid kernel: 0.5103734439834025\n"
     ]
    }
   ],
   "source": [
    "import numpy as np\n",
    "from sklearn import svm\n",
    "from sklearn.model_selection import train_test_split\n",
    "from sklearn.metrics import accuracy_score\n",
    "\n",
    "X_train, X_test, y_train, y_test = train_test_split(data1, labels, test_size=0.2, random_state=42)\n",
    "\n",
    "kernel_types = ['linear', 'poly', 'rbf', 'sigmoid']\n",
    "\n",
    "for kernel_type in kernel_types:\n",
    "    clf = svm.SVC(kernel=kernel_type)\n",
    "    \n",
    "    clf.fit(X_train, y_train)\n",
    "\n",
    "    y_pred = clf.predict(X_test)\n",
    "\n",
    "    accuracy = accuracy_score(y_test, y_pred)\n",
    "    print(f\"Accuracy with {kernel_type} kernel: {accuracy}\")\n"
   ]
  }
 ],
 "metadata": {
  "kernelspec": {
   "display_name": "base",
   "language": "python",
   "name": "python3"
  },
  "language_info": {
   "codemirror_mode": {
    "name": "ipython",
    "version": 3
   },
   "file_extension": ".py",
   "mimetype": "text/x-python",
   "name": "python",
   "nbconvert_exporter": "python",
   "pygments_lexer": "ipython3",
   "version": "3.10.9"
  },
  "orig_nbformat": 4
 },
 "nbformat": 4,
 "nbformat_minor": 2
}
