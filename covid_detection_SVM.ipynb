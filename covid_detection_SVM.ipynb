{
 "cells": [
  {
   "cell_type": "code",
   "execution_count": 1,
   "metadata": {},
   "outputs": [
    {
     "name": "stdout",
     "output_type": "stream",
     "text": [
      "Training data shape: (842, 264, 264, 3)\n",
      "Training labels shape: (842,)\n",
      "val data shape: (181, 264, 264, 3)\n",
      "val labels shape: (181,)\n",
      "Test data shape: (181, 264, 264, 3)\n",
      "Test labels shape: (181,)\n"
     ]
    }
   ],
   "source": [
    "import os\n",
    "import cv2\n",
    "import numpy as np\n",
    "from sklearn.model_selection import train_test_split\n",
    "\n",
    "folder1_path = \"covid\"\n",
    "folder2_path = \"normal\"\n",
    "\n",
    "\n",
    "image_size = (264, 264)\n",
    "\n",
    "data = []\n",
    "labels = []\n",
    "\n",
    "\n",
    "def one_hot(data):\n",
    "    a= list(set(data))\n",
    "    ohe = np.zeros((len(data),len(set(data))))\n",
    "    for i in range(len(data)):\n",
    "        ind = a.index(data[i])\n",
    "        ohe[i][ind] = 1\n",
    "    \n",
    "    return ohe\n",
    "\n",
    "\n",
    "\n",
    "for filename in os.listdir(folder1_path):\n",
    "    img = cv2.imread(os.path.join(folder1_path, filename))\n",
    "    if img is not None:\n",
    "        img = cv2.resize(img, image_size) if image_size else img\n",
    "        data.append(img)\n",
    "        labels.append(0)  \n",
    "\n",
    "for filename in os.listdir(folder2_path):\n",
    "    img = cv2.imread(os.path.join(folder2_path, filename))\n",
    "    if img is not None:\n",
    "        img = cv2.resize(img, image_size) if image_size else img\n",
    "        data.append(img)\n",
    "        labels.append(1)  \n",
    "\n",
    "data = np.array(data)\n",
    "# labels = one_hot(labels)\n",
    "labels = np.array(labels)\n",
    "data = data/255.0\n",
    "\n",
    "train_data, r_data, train_labels, r_labels = train_test_split(data, labels, test_size=0.3, random_state=42)\n",
    "val_data, test_data, val_labels, test_labels = train_test_split(r_data, r_labels, test_size=0.5, random_state=42)\n",
    "\n",
    "\n",
    "# Print the shapes of the resulting datasets\n",
    "print(\"Training data shape:\", train_data.shape)\n",
    "print(\"Training labels shape:\", train_labels.shape)\n",
    "print(\"val data shape:\", val_data.shape)\n",
    "print(\"val labels shape:\", val_labels.shape)\n",
    "print(\"Test data shape:\", test_data.shape)\n",
    "print(\"Test labels shape:\", test_labels.shape)\n"
   ]
  },
  {
   "cell_type": "code",
   "execution_count": 2,
   "metadata": {},
   "outputs": [
    {
     "data": {
      "text/plain": [
       "array([0, 0, 0, ..., 1, 1, 1])"
      ]
     },
     "execution_count": 2,
     "metadata": {},
     "output_type": "execute_result"
    }
   ],
   "source": [
    "labels"
   ]
  },
  {
   "cell_type": "code",
   "execution_count": 3,
   "metadata": {},
   "outputs": [
    {
     "data": {
      "text/plain": [
       "(264, 264, 3)"
      ]
     },
     "execution_count": 3,
     "metadata": {},
     "output_type": "execute_result"
    }
   ],
   "source": [
    "train_data[0].shape"
   ]
  },
  {
   "cell_type": "code",
   "execution_count": 4,
   "metadata": {},
   "outputs": [
    {
     "name": "stdout",
     "output_type": "stream",
     "text": [
      "Accuracy: 0.9834254143646409\n"
     ]
    }
   ],
   "source": [
    "import numpy as np\n",
    "from sklearn import svm\n",
    "from sklearn.model_selection import train_test_split\n",
    "from sklearn.metrics import accuracy_score\n",
    "\n",
    "# Assuming your training data is stored in a variable named 'train_data'\n",
    "# Reshape the data to flatten each image\n",
    "n_samples, height, width, channels = data.shape\n",
    "flattened_train_data = data.reshape(n_samples, -1)  # Reshape to (842, 264*264*3)\n",
    "\n",
    "# Assuming you have corresponding labels for your training data in 'train_labels'\n",
    "# Split the data into training and testing sets\n",
    "X_train, X_test, y_train, y_test = train_test_split(flattened_train_data, labels, test_size=0.3, random_state=42)\n",
    "\n",
    "# Create an SVM classifier\n",
    "clf = svm.SVC(kernel='linear')  # You can choose the kernel type\n",
    "\n",
    "# Train the SVM classifier\n",
    "clf.fit(X_train, y_train)\n",
    "\n",
    "# Make predictions on the test set\n",
    "y_pred = clf.predict(X_test)\n",
    "\n",
    "# Evaluate the model\n",
    "accuracy = accuracy_score(y_test, y_pred)\n",
    "print(f\"Accuracy: {accuracy}\")\n"
   ]
  },
  {
   "cell_type": "code",
   "execution_count": 5,
   "metadata": {},
   "outputs": [
    {
     "name": "stdout",
     "output_type": "stream",
     "text": [
      "Accuracy with linear kernel: 0.9940828402366864\n",
      "Accuracy with poly kernel: 0.9940828402366864\n",
      "Accuracy with rbf kernel: 0.9881656804733728\n",
      "Accuracy with sigmoid kernel: 0.5739644970414202\n"
     ]
    }
   ],
   "source": [
    "import numpy as np\n",
    "from sklearn import svm\n",
    "from sklearn.model_selection import train_test_split\n",
    "from sklearn.metrics import accuracy_score\n",
    "\n",
    "# Assuming your training data is stored in a variable named 'train_data'\n",
    "# Reshape the data to flatten each image\n",
    "n_samples, height, width, channels = train_data.shape\n",
    "flattened_train_data = train_data.reshape(n_samples, -1)  # Reshape to (842, 264*264*3)\n",
    "\n",
    "# Assuming you have corresponding labels for your training data in 'train_labels'\n",
    "# Split the data into training and testing sets\n",
    "X_train, X_test, y_train, y_test = train_test_split(flattened_train_data, train_labels, test_size=0.2, random_state=42)\n",
    "\n",
    "# Define a list of different kernel types\n",
    "kernel_types = ['linear', 'poly', 'rbf', 'sigmoid']\n",
    "\n",
    "# Iterate over each kernel type and train an SVM classifier\n",
    "for kernel_type in kernel_types:\n",
    "    # Create an SVM classifier with the specified kernel\n",
    "    clf = svm.SVC(kernel=kernel_type)\n",
    "    \n",
    "    # Train the SVM classifier\n",
    "    clf.fit(X_train, y_train)\n",
    "\n",
    "    # Make predictions on the test set\n",
    "    y_pred = clf.predict(X_test)\n",
    "\n",
    "    # Evaluate the model and print the accuracy for each kernel\n",
    "    accuracy = accuracy_score(y_test, y_pred)\n",
    "    print(f\"Accuracy with {kernel_type} kernel: {accuracy}\")\n"
   ]
  },
  {
   "cell_type": "code",
   "execution_count": null,
   "metadata": {},
   "outputs": [],
   "source": []
  },
  {
   "cell_type": "code",
   "execution_count": null,
   "metadata": {},
   "outputs": [],
   "source": []
  },
  {
   "cell_type": "code",
   "execution_count": null,
   "metadata": {},
   "outputs": [],
   "source": []
  }
 ],
 "metadata": {
  "kernelspec": {
   "display_name": "base",
   "language": "python",
   "name": "python3"
  },
  "language_info": {
   "codemirror_mode": {
    "name": "ipython",
    "version": 3
   },
   "file_extension": ".py",
   "mimetype": "text/x-python",
   "name": "python",
   "nbconvert_exporter": "python",
   "pygments_lexer": "ipython3",
   "version": "3.10.9"
  },
  "orig_nbformat": 4
 },
 "nbformat": 4,
 "nbformat_minor": 2
}
